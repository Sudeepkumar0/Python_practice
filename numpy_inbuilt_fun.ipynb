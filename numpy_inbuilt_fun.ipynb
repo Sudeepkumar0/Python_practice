{
 "cells": [
  {
   "metadata": {
    "ExecuteTime": {
     "end_time": "2025-05-16T18:17:25.388211Z",
     "start_time": "2025-05-16T18:17:25.168708Z"
    }
   },
   "cell_type": "code",
   "source": [
    "import numpy as np\n",
    "\n",
    "my_list = [1, 4, 6, 2]\n",
    "\n",
    "arr = np.array(my_list) #created one dimensional array\n",
    "print(arr)"
   ],
   "id": "652bcf602e0b361d",
   "outputs": [
    {
     "name": "stdout",
     "output_type": "stream",
     "text": [
      "[1 4 6 2]\n"
     ]
    }
   ],
   "execution_count": 3
  },
  {
   "metadata": {
    "ExecuteTime": {
     "end_time": "2025-05-16T16:13:24.161997Z",
     "start_time": "2025-05-16T16:13:24.154756Z"
    }
   },
   "cell_type": "code",
   "source": "type(arr)",
   "id": "18f1e48c972cda00",
   "outputs": [
    {
     "data": {
      "text/plain": [
       "numpy.ndarray"
      ]
     },
     "execution_count": 5,
     "metadata": {},
     "output_type": "execute_result"
    }
   ],
   "execution_count": 5
  },
  {
   "metadata": {
    "ExecuteTime": {
     "end_time": "2025-05-16T16:14:06.403277Z",
     "start_time": "2025-05-16T16:14:06.397380Z"
    }
   },
   "cell_type": "code",
   "source": "arr.shape",
   "id": "55c7be477576bf8b",
   "outputs": [
    {
     "data": {
      "text/plain": [
       "(4,)"
      ]
     },
     "execution_count": 6,
     "metadata": {},
     "output_type": "execute_result"
    }
   ],
   "execution_count": 6
  },
  {
   "metadata": {
    "ExecuteTime": {
     "end_time": "2025-05-16T16:16:20.654572Z",
     "start_time": "2025-05-16T16:16:20.643323Z"
    }
   },
   "cell_type": "code",
   "source": [
    "my_list1 = [1, 5, 7, 2]\n",
    "my_list2 = [1, 7, 6, 9]\n",
    "my_list3 = [5, 3, 6, 1]\n",
    "\n",
    "arr = np.array([my_list1, my_list2, my_list3]) #created multi dimensional array"
   ],
   "id": "523f6a0da67431fa",
   "outputs": [],
   "execution_count": 7
  },
  {
   "metadata": {
    "ExecuteTime": {
     "end_time": "2025-05-16T16:16:54.342465Z",
     "start_time": "2025-05-16T16:16:54.332188Z"
    }
   },
   "cell_type": "code",
   "source": "arr.shape",
   "id": "fd35329c2c7c4255",
   "outputs": [
    {
     "data": {
      "text/plain": [
       "(3, 4)"
      ]
     },
     "execution_count": 8,
     "metadata": {},
     "output_type": "execute_result"
    }
   ],
   "execution_count": 8
  },
  {
   "metadata": {
    "ExecuteTime": {
     "end_time": "2025-05-16T18:17:30.961607Z",
     "start_time": "2025-05-16T18:17:30.953716Z"
    }
   },
   "cell_type": "code",
   "source": [
    "arr1 = np.array([1,2,3,4,5,6,7,8])\n",
    "\n",
    "arr[3]"
   ],
   "id": "edc65a84f008f7ac",
   "outputs": [
    {
     "data": {
      "text/plain": [
       "2"
      ]
     },
     "execution_count": 4,
     "metadata": {},
     "output_type": "execute_result"
    }
   ],
   "execution_count": 4
  },
  {
   "metadata": {
    "ExecuteTime": {
     "end_time": "2025-05-16T18:19:29.992007Z",
     "start_time": "2025-05-16T18:19:29.987690Z"
    }
   },
   "cell_type": "code",
   "source": "arr1[:]\n",
   "id": "575fd479dd7c2b8f",
   "outputs": [
    {
     "data": {
      "text/plain": [
       "array([1, 2, 3, 4, 5, 6, 7, 8])"
      ]
     },
     "execution_count": 12,
     "metadata": {},
     "output_type": "execute_result"
    }
   ],
   "execution_count": 12
  },
  {
   "metadata": {
    "ExecuteTime": {
     "end_time": "2025-05-16T18:19:35.638443Z",
     "start_time": "2025-05-16T18:19:35.633346Z"
    }
   },
   "cell_type": "code",
   "source": "arr1[:5]\n",
   "id": "196c98a61ea69dd8",
   "outputs": [
    {
     "data": {
      "text/plain": [
       "array([1, 2, 3, 4, 5])"
      ]
     },
     "execution_count": 13,
     "metadata": {},
     "output_type": "execute_result"
    }
   ],
   "execution_count": 13
  },
  {
   "metadata": {
    "ExecuteTime": {
     "end_time": "2025-05-16T18:19:41.852101Z",
     "start_time": "2025-05-16T18:19:41.847158Z"
    }
   },
   "cell_type": "code",
   "source": "arr1[1:5]\n",
   "id": "22035624badbc221",
   "outputs": [
    {
     "data": {
      "text/plain": [
       "array([2, 3, 4, 5])"
      ]
     },
     "execution_count": 14,
     "metadata": {},
     "output_type": "execute_result"
    }
   ],
   "execution_count": 14
  },
  {
   "metadata": {
    "ExecuteTime": {
     "end_time": "2025-05-16T18:19:45.166582Z",
     "start_time": "2025-05-16T18:19:45.161356Z"
    }
   },
   "cell_type": "code",
   "source": "arr1[1:]",
   "id": "51426f5a1f605146",
   "outputs": [
    {
     "data": {
      "text/plain": [
       "array([2, 3, 4, 5, 6, 7, 8])"
      ]
     },
     "execution_count": 15,
     "metadata": {},
     "output_type": "execute_result"
    }
   ],
   "execution_count": 15
  },
  {
   "metadata": {
    "ExecuteTime": {
     "end_time": "2025-05-16T18:20:44.287905Z",
     "start_time": "2025-05-16T18:20:44.282588Z"
    }
   },
   "cell_type": "code",
   "source": [
    "my_list1 = [1, 5, 7, 2]\n",
    "my_list2 = [1, 7, 6, 9]\n",
    "my_list3 = [5, 3, 6, 1]\n",
    "\n",
    "arr2 = np.array([my_list1, my_list2, my_list3])"
   ],
   "id": "ce74fae057cfd2ef",
   "outputs": [],
   "execution_count": 16
  },
  {
   "metadata": {
    "ExecuteTime": {
     "end_time": "2025-05-16T18:22:53.409362Z",
     "start_time": "2025-05-16T18:22:53.402896Z"
    }
   },
   "cell_type": "code",
   "source": "arr2[0:2]",
   "id": "b2e33acab74d9488",
   "outputs": [
    {
     "data": {
      "text/plain": [
       "array([[1, 5, 7, 2],\n",
       "       [1, 7, 6, 9]])"
      ]
     },
     "execution_count": 19,
     "metadata": {},
     "output_type": "execute_result"
    }
   ],
   "execution_count": 19
  },
  {
   "metadata": {
    "ExecuteTime": {
     "end_time": "2025-05-16T18:23:46.813205Z",
     "start_time": "2025-05-16T18:23:46.805994Z"
    }
   },
   "cell_type": "code",
   "source": "arr2[0:2,:]",
   "id": "e7cea69c432083b9",
   "outputs": [
    {
     "data": {
      "text/plain": [
       "array([[1, 5, 7, 2],\n",
       "       [1, 7, 6, 9]])"
      ]
     },
     "execution_count": 20,
     "metadata": {},
     "output_type": "execute_result"
    }
   ],
   "execution_count": 20
  },
  {
   "metadata": {
    "ExecuteTime": {
     "end_time": "2025-05-16T18:21:26.438039Z",
     "start_time": "2025-05-16T18:21:26.431570Z"
    }
   },
   "cell_type": "code",
   "source": "arr2[0:2, 0:2]",
   "id": "142cf2af72d44dce",
   "outputs": [
    {
     "data": {
      "text/plain": [
       "array([[1, 5],\n",
       "       [1, 7]])"
      ]
     },
     "execution_count": 18,
     "metadata": {},
     "output_type": "execute_result"
    }
   ],
   "execution_count": 18
  },
  {
   "metadata": {
    "ExecuteTime": {
     "end_time": "2025-05-16T18:24:23.602851Z",
     "start_time": "2025-05-16T18:24:23.596260Z"
    }
   },
   "cell_type": "code",
   "source": "arr2[:, :3]",
   "id": "5857bfb57b28a507",
   "outputs": [
    {
     "data": {
      "text/plain": [
       "array([[1, 5, 7],\n",
       "       [1, 7, 6],\n",
       "       [5, 3, 6]])"
      ]
     },
     "execution_count": 21,
     "metadata": {},
     "output_type": "execute_result"
    }
   ],
   "execution_count": 21
  },
  {
   "metadata": {
    "ExecuteTime": {
     "end_time": "2025-05-16T18:25:17.801597Z",
     "start_time": "2025-05-16T18:25:17.794884Z"
    }
   },
   "cell_type": "code",
   "source": "arr2[1:, 2:]",
   "id": "bf2b4d8853a4bc05",
   "outputs": [
    {
     "data": {
      "text/plain": [
       "array([[6, 9],\n",
       "       [6, 1]])"
      ]
     },
     "execution_count": 23,
     "metadata": {},
     "output_type": "execute_result"
    }
   ],
   "execution_count": 23
  },
  {
   "metadata": {
    "ExecuteTime": {
     "end_time": "2025-05-16T18:26:52.367402Z",
     "start_time": "2025-05-16T18:26:52.361642Z"
    }
   },
   "cell_type": "code",
   "source": "arr2[1:,1:3]",
   "id": "e40ae974ab0c744b",
   "outputs": [
    {
     "data": {
      "text/plain": [
       "array([[7, 6],\n",
       "       [3, 6]])"
      ]
     },
     "execution_count": 26,
     "metadata": {},
     "output_type": "execute_result"
    }
   ],
   "execution_count": 26
  },
  {
   "metadata": {
    "ExecuteTime": {
     "end_time": "2025-05-16T18:29:08.188495Z",
     "start_time": "2025-05-16T18:29:08.181757Z"
    }
   },
   "cell_type": "code",
   "source": [
    "arr3 = np.arange(0,10)\n",
    "arr3"
   ],
   "id": "44fcee53e6dc078d",
   "outputs": [
    {
     "data": {
      "text/plain": [
       "array([0, 1, 2, 3, 4, 5, 6, 7, 8, 9])"
      ]
     },
     "execution_count": 31,
     "metadata": {},
     "output_type": "execute_result"
    }
   ],
   "execution_count": 31
  },
  {
   "metadata": {
    "ExecuteTime": {
     "end_time": "2025-05-16T18:29:51.638452Z",
     "start_time": "2025-05-16T18:29:51.633345Z"
    }
   },
   "cell_type": "code",
   "source": [
    "arr3 = np.arange(0,10, step=2)\n",
    "arr3"
   ],
   "id": "e5d35d7ba88509d",
   "outputs": [
    {
     "data": {
      "text/plain": [
       "array([0, 2, 4, 6, 8])"
      ]
     },
     "execution_count": 33,
     "metadata": {},
     "output_type": "execute_result"
    }
   ],
   "execution_count": 33
  },
  {
   "metadata": {
    "ExecuteTime": {
     "end_time": "2025-05-16T18:31:13.686487Z",
     "start_time": "2025-05-16T18:31:13.647666Z"
    }
   },
   "cell_type": "code",
   "source": "np.linspace(1, 10, 20)",
   "id": "12a9434442390fe8",
   "outputs": [
    {
     "data": {
      "text/plain": [
       "array([ 1.        ,  1.47368421,  1.94736842,  2.42105263,  2.89473684,\n",
       "        3.36842105,  3.84210526,  4.31578947,  4.78947368,  5.26315789,\n",
       "        5.73684211,  6.21052632,  6.68421053,  7.15789474,  7.63157895,\n",
       "        8.10526316,  8.57894737,  9.05263158,  9.52631579, 10.        ])"
      ]
     },
     "execution_count": 34,
     "metadata": {},
     "output_type": "execute_result"
    }
   ],
   "execution_count": 34
  },
  {
   "metadata": {
    "ExecuteTime": {
     "end_time": "2025-05-16T18:32:33.856824Z",
     "start_time": "2025-05-16T18:32:33.849593Z"
    }
   },
   "cell_type": "code",
   "source": [
    "#copy functiom and brodcasting\n",
    "\n",
    "arr3[3:] = 100\n",
    "arr3"
   ],
   "id": "a5ea57ab19ffd3fd",
   "outputs": [
    {
     "data": {
      "text/plain": [
       "array([  0,   2,   4, 100, 100])"
      ]
     },
     "execution_count": 36,
     "metadata": {},
     "output_type": "execute_result"
    }
   ],
   "execution_count": 36
  },
  {
   "metadata": {
    "ExecuteTime": {
     "end_time": "2025-05-16T18:35:03.608078Z",
     "start_time": "2025-05-16T18:35:03.595698Z"
    }
   },
   "cell_type": "code",
   "source": [
    "arr4 = arr3.copy()\n",
    "arr4"
   ],
   "id": "c45a6a554e7c5d5",
   "outputs": [
    {
     "data": {
      "text/plain": [
       "array([  0,   2,   4, 100, 100])"
      ]
     },
     "execution_count": 37,
     "metadata": {},
     "output_type": "execute_result"
    }
   ],
   "execution_count": 37
  },
  {
   "metadata": {
    "ExecuteTime": {
     "end_time": "2025-05-16T18:36:54.127334Z",
     "start_time": "2025-05-16T18:36:54.121347Z"
    }
   },
   "cell_type": "code",
   "source": [
    "##some conditions usefull in EDA\n",
    "\n",
    "arr3 = np.arange(0,10)\n",
    "# val = 2\n",
    "arr3 < 2"
   ],
   "id": "6cffcb17776b78ca",
   "outputs": [
    {
     "data": {
      "text/plain": [
       "array([ True,  True, False, False, False, False, False, False, False,\n",
       "       False])"
      ]
     },
     "execution_count": 39,
     "metadata": {},
     "output_type": "execute_result"
    }
   ],
   "execution_count": 39
  },
  {
   "metadata": {
    "ExecuteTime": {
     "end_time": "2025-05-16T18:37:24.208992Z",
     "start_time": "2025-05-16T18:37:24.202941Z"
    }
   },
   "cell_type": "code",
   "source": "arr3*2",
   "id": "7d727c35924d8be9",
   "outputs": [
    {
     "data": {
      "text/plain": [
       "array([ 0,  2,  4,  6,  8, 10, 12, 14, 16, 18])"
      ]
     },
     "execution_count": 41,
     "metadata": {},
     "output_type": "execute_result"
    }
   ],
   "execution_count": 41
  },
  {
   "metadata": {
    "ExecuteTime": {
     "end_time": "2025-05-16T18:37:35.731136Z",
     "start_time": "2025-05-16T18:37:35.719132Z"
    }
   },
   "cell_type": "code",
   "source": "arr3/2",
   "id": "9586e3d5471aebcc",
   "outputs": [
    {
     "data": {
      "text/plain": [
       "array([0. , 0.5, 1. , 1.5, 2. , 2.5, 3. , 3.5, 4. , 4.5])"
      ]
     },
     "execution_count": 42,
     "metadata": {},
     "output_type": "execute_result"
    }
   ],
   "execution_count": 42
  },
  {
   "metadata": {
    "ExecuteTime": {
     "end_time": "2025-05-16T18:38:19.953096Z",
     "start_time": "2025-05-16T18:38:19.948050Z"
    }
   },
   "cell_type": "code",
   "source": "arr3[arr3<4]",
   "id": "8e9f1b1160720b9d",
   "outputs": [
    {
     "data": {
      "text/plain": [
       "array([0, 1, 2, 3])"
      ]
     },
     "execution_count": 45,
     "metadata": {},
     "output_type": "execute_result"
    }
   ],
   "execution_count": 45
  },
  {
   "metadata": {
    "ExecuteTime": {
     "end_time": "2025-05-16T18:38:52.835823Z",
     "start_time": "2025-05-16T18:38:52.829195Z"
    }
   },
   "cell_type": "code",
   "source": "np.arange(0,10).reshape(2,5)",
   "id": "4dcc95908624be6d",
   "outputs": [
    {
     "data": {
      "text/plain": [
       "array([[0, 1, 2, 3, 4],\n",
       "       [5, 6, 7, 8, 9]])"
      ]
     },
     "execution_count": 46,
     "metadata": {},
     "output_type": "execute_result"
    }
   ],
   "execution_count": 46
  },
  {
   "metadata": {
    "ExecuteTime": {
     "end_time": "2025-05-16T18:39:16.505719Z",
     "start_time": "2025-05-16T18:39:16.499716Z"
    }
   },
   "cell_type": "code",
   "source": "np.ones(4)",
   "id": "76b3e5671fd08f3d",
   "outputs": [
    {
     "data": {
      "text/plain": [
       "array([1., 1., 1., 1.])"
      ]
     },
     "execution_count": 47,
     "metadata": {},
     "output_type": "execute_result"
    }
   ],
   "execution_count": 47
  },
  {
   "metadata": {
    "ExecuteTime": {
     "end_time": "2025-05-16T18:39:55.736065Z",
     "start_time": "2025-05-16T18:39:55.729799Z"
    }
   },
   "cell_type": "code",
   "source": "np.ones((2,5), dtype=int)",
   "id": "91849690826ad33a",
   "outputs": [
    {
     "data": {
      "text/plain": [
       "array([[1, 1, 1, 1, 1],\n",
       "       [1, 1, 1, 1, 1]])"
      ]
     },
     "execution_count": 48,
     "metadata": {},
     "output_type": "execute_result"
    }
   ],
   "execution_count": 48
  },
  {
   "metadata": {
    "ExecuteTime": {
     "end_time": "2025-05-16T18:40:20.600356Z",
     "start_time": "2025-05-16T18:40:20.591875Z"
    }
   },
   "cell_type": "code",
   "source": [
    "##random distribution\n",
    "\n",
    "np.random.rand(3,3)"
   ],
   "id": "d86b4660d15675a5",
   "outputs": [
    {
     "data": {
      "text/plain": [
       "array([[0.34497827, 0.65591012, 0.42529095],\n",
       "       [0.07682034, 0.39494866, 0.61532889],\n",
       "       [0.14722914, 0.08976541, 0.07263354]])"
      ]
     },
     "execution_count": 49,
     "metadata": {},
     "output_type": "execute_result"
    }
   ],
   "execution_count": 49
  },
  {
   "metadata": {
    "ExecuteTime": {
     "end_time": "2025-05-16T18:41:00.545491Z",
     "start_time": "2025-05-16T18:41:00.539476Z"
    }
   },
   "cell_type": "code",
   "source": [
    "ass = np.random.rand(3)\n",
    "ass"
   ],
   "id": "6b6ace5cdcaa361f",
   "outputs": [
    {
     "data": {
      "text/plain": [
       "array([0.87448621, 0.73255726, 0.19163232])"
      ]
     },
     "execution_count": 51,
     "metadata": {},
     "output_type": "execute_result"
    }
   ],
   "execution_count": 51
  },
  {
   "metadata": {
    "ExecuteTime": {
     "end_time": "2025-05-16T18:41:40.310545Z",
     "start_time": "2025-05-16T18:41:40.304496Z"
    }
   },
   "cell_type": "code",
   "source": [
    "arrx = np.random.randn(4,4)\n",
    "arrx"
   ],
   "id": "ba03d11c9cfc3ba",
   "outputs": [
    {
     "data": {
      "text/plain": [
       "array([[ 2.49397519,  0.05433255,  0.02082789, -0.47714944],\n",
       "       [-1.3299412 , -1.07254516,  0.83980557,  0.54349789],\n",
       "       [-0.82941607,  0.82516135, -0.49151498,  0.04252799],\n",
       "       [ 0.02828033, -0.55916501,  1.92906855,  0.60396874]])"
      ]
     },
     "execution_count": 53,
     "metadata": {},
     "output_type": "execute_result"
    }
   ],
   "execution_count": 53
  },
  {
   "metadata": {
    "ExecuteTime": {
     "end_time": "2025-05-16T18:45:38.780816Z",
     "start_time": "2025-05-16T18:45:38.775308Z"
    }
   },
   "cell_type": "code",
   "source": "np.random.random_sample((1,3))",
   "id": "a353af4fc3605b87",
   "outputs": [
    {
     "data": {
      "text/plain": [
       "array([[0.74270983, 0.05950324, 0.82895725]])"
      ]
     },
     "execution_count": 57,
     "metadata": {},
     "output_type": "execute_result"
    }
   ],
   "execution_count": 57
  },
  {
   "metadata": {
    "ExecuteTime": {
     "end_time": "2025-05-16T18:45:35.870435Z",
     "start_time": "2025-05-16T18:45:35.867721Z"
    }
   },
   "cell_type": "code",
   "source": "",
   "id": "da8bda99caa9f1a6",
   "outputs": [],
   "execution_count": null
  },
  {
   "metadata": {},
   "cell_type": "code",
   "outputs": [],
   "execution_count": null,
   "source": "",
   "id": "fa87beb2d8573fa8"
  }
 ],
 "metadata": {
  "kernelspec": {
   "display_name": "Python 3",
   "language": "python",
   "name": "python3"
  },
  "language_info": {
   "codemirror_mode": {
    "name": "ipython",
    "version": 2
   },
   "file_extension": ".py",
   "mimetype": "text/x-python",
   "name": "python",
   "nbconvert_exporter": "python",
   "pygments_lexer": "ipython2",
   "version": "2.7.6"
  }
 },
 "nbformat": 4,
 "nbformat_minor": 5
}
