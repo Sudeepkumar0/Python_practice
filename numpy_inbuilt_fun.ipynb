{
 "cells": [
  {
   "metadata": {
    "ExecuteTime": {
     "end_time": "2025-05-16T16:17:15.280694Z",
     "start_time": "2025-05-16T16:17:15.275557Z"
    }
   },
   "cell_type": "code",
   "source": [
    "import numpy as np\n",
    "\n",
    "my_list = [1, 4, 6, 2]\n",
    "\n",
    "arr = np.array(my_list) #created one dimensional array\n",
    "print(arr)"
   ],
   "id": "652bcf602e0b361d",
   "outputs": [
    {
     "name": "stdout",
     "output_type": "stream",
     "text": [
      "[1 4 6 2]\n"
     ]
    }
   ],
   "execution_count": 9
  },
  {
   "metadata": {
    "ExecuteTime": {
     "end_time": "2025-05-16T16:13:24.161997Z",
     "start_time": "2025-05-16T16:13:24.154756Z"
    }
   },
   "cell_type": "code",
   "source": "type(arr)",
   "id": "18f1e48c972cda00",
   "outputs": [
    {
     "data": {
      "text/plain": [
       "numpy.ndarray"
      ]
     },
     "execution_count": 5,
     "metadata": {},
     "output_type": "execute_result"
    }
   ],
   "execution_count": 5
  },
  {
   "metadata": {
    "ExecuteTime": {
     "end_time": "2025-05-16T16:14:06.403277Z",
     "start_time": "2025-05-16T16:14:06.397380Z"
    }
   },
   "cell_type": "code",
   "source": "arr.shape",
   "id": "55c7be477576bf8b",
   "outputs": [
    {
     "data": {
      "text/plain": [
       "(4,)"
      ]
     },
     "execution_count": 6,
     "metadata": {},
     "output_type": "execute_result"
    }
   ],
   "execution_count": 6
  },
  {
   "metadata": {
    "ExecuteTime": {
     "end_time": "2025-05-16T16:16:20.654572Z",
     "start_time": "2025-05-16T16:16:20.643323Z"
    }
   },
   "cell_type": "code",
   "source": [
    "my_list1 = [1, 5, 7, 2]\n",
    "my_list2 = [1, 7, 6, 9]\n",
    "my_list3 = [5, 3, 6, 1]\n",
    "\n",
    "arr = np.array([my_list1, my_list2, my_list3]) #created multi dimensional array"
   ],
   "id": "523f6a0da67431fa",
   "outputs": [],
   "execution_count": 7
  },
  {
   "metadata": {
    "ExecuteTime": {
     "end_time": "2025-05-16T16:16:54.342465Z",
     "start_time": "2025-05-16T16:16:54.332188Z"
    }
   },
   "cell_type": "code",
   "source": "arr.shape",
   "id": "fd35329c2c7c4255",
   "outputs": [
    {
     "data": {
      "text/plain": [
       "(3, 4)"
      ]
     },
     "execution_count": 8,
     "metadata": {},
     "output_type": "execute_result"
    }
   ],
   "execution_count": 8
  },
  {
   "metadata": {},
   "cell_type": "code",
   "outputs": [],
   "execution_count": null,
   "source": "",
   "id": "c805a87a017fd9b"
  }
 ],
 "metadata": {
  "kernelspec": {
   "display_name": "Python 3",
   "language": "python",
   "name": "python3"
  },
  "language_info": {
   "codemirror_mode": {
    "name": "ipython",
    "version": 2
   },
   "file_extension": ".py",
   "mimetype": "text/x-python",
   "name": "python",
   "nbconvert_exporter": "python",
   "pygments_lexer": "ipython2",
   "version": "2.7.6"
  }
 },
 "nbformat": 4,
 "nbformat_minor": 5
}
